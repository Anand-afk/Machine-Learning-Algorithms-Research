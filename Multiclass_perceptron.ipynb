{
 "cells": [
  {
   "cell_type": "markdown",
   "metadata": {},
   "source": [
    "## Section E: Multiclass Perceptron"
   ]
  },
  {
   "cell_type": "markdown",
   "metadata": {},
   "source": [
    "In this section, you are asked to demonstrate your understanding of linear models for classification. You expand the binary-class perceptron algorithm that is covered in Activity 1 of Module 3 into a multiclass classifier.\n",
    "\n",
    "Like most other techniques for training linear classifiers, the perceptron generalizes naturally to multiclass classification.  Here, the input x and the output y are drawn from arbitrary sets. A feature representation function f(x,y) maps each possible input/output pair to a finite-dimensional real-valued feature vector. The feature vector is multiplied by a weight vector w, the resulting score is used to choose among many possible outputs. Learning again iterates over the examples, predicting an output for each, leaving the weights unchanged when the predicted output matches the target, and changing them when it does not. The update becomes: $w{t+1}=w{t}+f(x,y)-tn.$\n",
    "\n",
    "This multiclass feedback formulation reduces to the original perceptron when x is a real-valued vector, y is chosen from {0,1}, and f(x,y)=yx."
   ]
  },
  {
   "cell_type": "markdown",
   "metadata": {},
   "source": [
    "### Question 6 :Multiclass Perceptron\n",
    "> ##### 1. Loading the train and test datasets"
   ]
  },
  {
   "cell_type": "code",
   "execution_count": 27,
   "metadata": {},
   "outputs": [],
   "source": [
    "# Loading traning data in Task1_train_dataframe\n",
    "train_data = read.csv(\"Task1D_train.csv\")\n",
    "# Loading test data in Task1A_test_dataframe\n",
    "test_data = read.csv(\"Task1D_test.csv\")"
   ]
  },
  {
   "cell_type": "markdown",
   "metadata": {},
   "source": [
    "> ##### 2. Implement the multiclass perceptron"
   ]
  },
  {
   "cell_type": "code",
   "execution_count": 28,
   "metadata": {},
   "outputs": [],
   "source": [
    "# Length of the train data\n",
    "train.len <- nrow(train_data)\n",
    "# Length of the test data\n",
    "test.len <- nrow(test_data)\n",
    "# Training data from train_data\n",
    "train.data <- train_data[,-5]\n",
    "#Testing data from test_data\n",
    "test.data <- test_data[,-5] \n",
    "# Training label from train_data\n",
    "train.label <- train_data[,5]\n",
    "# Testing label from test_data\n",
    "test.label <- test_data[,5]"
   ]
  },
  {
   "cell_type": "code",
   "execution_count": 29,
   "metadata": {},
   "outputs": [],
   "source": [
    "## Basis function \n",
    "Phi <- as.matrix(cbind(1, train.data)) # add a column of 1 as phi_0"
   ]
  },
  {
   "cell_type": "markdown",
   "metadata": {},
   "source": [
    "> ##### Error function\n",
    "> Arguments\n",
    ">1. train.len :- train data length\n",
    ">2. weights :- data frame of different weights for classification\n",
    ">3. classes :- vector of classes\n",
    ">4. train.label :- train label\n",
    "\n",
    "It returns the percentage of missclassification"
   ]
  },
  {
   "cell_type": "code",
   "execution_count": 20,
   "metadata": {},
   "outputs": [],
   "source": [
    "error <- function(train.len,weights,Phi,classes,train.label){\n",
    "    # Variable to keep count of misclassification\n",
    "    mis_class = 0\n",
    "    for (i in 1:train.len){\n",
    "        # Getting the index number of the argument which has the maximum value\n",
    "        c_ind = data.frame(sort(c(Phi[i,]%*%weights[,1],Phi[i,]%*%weights[,2],Phi[i,]%*%weights[,3]),\n",
    "                                  index.return = TRUE))[3,2]\n",
    "        # Checking if predicted class and original label are same.\n",
    "        if (classes[c_ind]!=train.label[i]){\n",
    "            # If label is different then increamenting the count of the variable.\n",
    "            mis_class = mis_class + 1\n",
    "        }\n",
    "    }\n",
    "    return (mis_class/train.len*100)\n",
    "}"
   ]
  },
  {
   "cell_type": "markdown",
   "metadata": {},
   "source": [
    "> ##### Initialization"
   ]
  },
  {
   "cell_type": "code",
   "execution_count": 21,
   "metadata": {
    "scrolled": false
   },
   "outputs": [],
   "source": [
    "# Initialization\n",
    "eta <- 0.01 # Learning rate\n",
    "epsilon <- 0.001 # Stoping criterion\n",
    "\n",
    "tau <- 1 # iteration counter\n",
    "tau.max <- 100 # Maximum number of iterations\n",
    "\n",
    "\n",
    "W1 <- matrix(,nrow=tau.max, ncol=ncol(Phi)) # Empty Weight vector for class c1\n",
    "W1[1,] <- runif(ncol(Phi)) # Random initial values for weight vector W1\n",
    "\n",
    "W2 <- matrix(,nrow=tau.max, ncol=ncol(Phi)) # Empty Weight vector For class c2\n",
    "W2[1,] <- runif(ncol(Phi)) # Random initial values for weight vector W2\n",
    "\n",
    "W3 <- matrix(,nrow=tau.max, ncol=ncol(Phi)) # Empty Weight vector for class W3\n",
    "W3[1,] <- runif(ncol(Phi)) # Random initial values for weight vector W3\n",
    "\n",
    "# Vector of different classes from data set  \n",
    "classes <- as.character(unique(unlist(test_data[\"y\"])))\n",
    "# Creating a data frame to have all the weights in it\n",
    "weights <- data.frame(W1=W1[tau,],W2=W2[tau,],W3=W3[tau,])\n",
    "\n",
    "error.trace <- matrix(0,nrow=tau.max, ncol=1) # Placeholder for errors\n",
    "\n",
    "error.trace[1] <- error(train.len,weights,Phi,classes,train.label) # record error for initial weights\n",
    " \n",
    "terminate <- FALSE # termination status"
   ]
  },
  {
   "cell_type": "markdown",
   "metadata": {},
   "source": [
    "> We learn the model parameter using SGD below :"
   ]
  },
  {
   "cell_type": "code",
   "execution_count": 22,
   "metadata": {},
   "outputs": [],
   "source": [
    "# Main loop\n",
    "while(!terminate){\n",
    "    # resuffling train data and associated labels:\n",
    "    train.index <- sample(1:train.len, replace = FALSE)\n",
    "    Phi <- Phi[train.index,]\n",
    "    T <- train.label[train.index]\n",
    "    \n",
    "    for (i in 1:train.len){\n",
    "        if (tau == tau.max) {break}\n",
    "        # Getting the index number of the argument which has the maximum value\n",
    "        c_ind = data.frame(sort(c(Phi[i,]%*%weights[,1],Phi[i,]%*%weights[,2],Phi[i,]%*%weights[,3]),\n",
    "                                  index.return = TRUE))[3,2]\n",
    "        \n",
    "        # look for missclassified samples\n",
    "        if (classes[c_ind]!=T[i]){\n",
    "            \n",
    "            weights[,c_ind] <- weights[,c_ind] - eta * Phi[i,] \n",
    "            \n",
    "            # Finding the index number of original class label from classes vector \n",
    "            original_c_indx = match(T[i],classes)\n",
    "            # updating the values of corresponding column in weights dataframe to have the latest value of weight.\n",
    "            weights[,original_c_indx] <- weights[,original_c_indx] + eta * Phi[i,]\n",
    "            \n",
    "            # update tau counter\n",
    "            tau <- tau +1\n",
    "            \n",
    "            # update the weights\n",
    "            W1[tau,] <- weights[,1];W2[tau,] <- weights[,2];W3[tau,] <- weights[,3]\n",
    "            \n",
    "            # update the record of error\n",
    "            error.trace[tau] <- error(train.len,weights,Phi,classes,T)\n",
    "        } \n",
    "        \n",
    "    }\n",
    "    \n",
    "    # decrease eta:\n",
    "    eta = eta * 0.99\n",
    "    # recalculate termination conditions\n",
    "    terminate <- tau >= tau.max | \n",
    "        abs(error.trace[tau]-error.trace[tau-1]) <= epsilon \n",
    "    \n",
    "    \n",
    "}\n",
    "# cut the empty part of the matrix (when the loop stops before tau == tau.max)\n",
    "W1 <- W1[1:tau,];W2 <- W2[1:tau,];W2 <- W2[1:tau,] "
   ]
  },
  {
   "cell_type": "markdown",
   "metadata": {},
   "source": [
    "> ##### 3. Multiclass Perceptron with Neta= 0.09 "
   ]
  },
  {
   "cell_type": "code",
   "execution_count": 23,
   "metadata": {},
   "outputs": [],
   "source": [
    "## Basis function \n",
    "test_phi <- as.matrix(cbind(1, test.data)) # add a column of 1 as phi_0"
   ]
  },
  {
   "cell_type": "code",
   "execution_count": 24,
   "metadata": {},
   "outputs": [],
   "source": [
    "# Initialization\n",
    "eta <- 0.09 # Learning rate\n",
    "epsilon <- 0.001 # Stoping criterion\n",
    "\n",
    "tau <- 1 # iteration counter\n",
    "tau.max <- 100 # Maximum number of iterations\n",
    "\n",
    "\n",
    "W1 <- matrix(,nrow=tau.max, ncol=ncol(Phi)) # Empty Weight vector for class c1\n",
    "W1[1,] <- runif(ncol(Phi)) # Random initial values for weight vector W1\n",
    "\n",
    "W2 <- matrix(,nrow=tau.max, ncol=ncol(Phi)) # Empty Weight vector For class c2\n",
    "W2[1,] <- runif(ncol(Phi)) # Random initial values for weight vector W2\n",
    "\n",
    "W3 <- matrix(,nrow=tau.max, ncol=ncol(Phi)) # Empty Weight vector for class W3\n",
    "W3[1,] <- runif(ncol(Phi)) # Random initial values for weight vector W3\n",
    "\n",
    "# Vector of different classes from data set  \n",
    "classes <- as.character(unique(unlist(test_data[\"y\"])))\n",
    "# Creating a data frame to have all the weights in it\n",
    "weights <- data.frame(W1=W1[tau,],W2=W2[tau,],W3=W3[tau,])\n",
    "\n",
    "error.trace <- matrix(0,nrow=tau.max, ncol=1) # Placeholder for errors\n",
    "\n",
    "error.trace[1] <- error(train.len,weights,Phi,classes,train.label) # record error for initial weights\n",
    " \n",
    "terminate <- FALSE # termination status\n",
    "\n",
    "# Total length of the mini_batch error\n",
    "total.batch <- train.len%/%5\n",
    "# Data frame to hole the mini batch number and corresponding error\n",
    "mini_batch_error <- data.frame(\"Number\"=1:total.batch,\"error\"=rep(0,total.batch))\n",
    "# Variable for updating error after processing every 5 training data points\n",
    "count <- 1 "
   ]
  },
  {
   "cell_type": "code",
   "execution_count": 25,
   "metadata": {},
   "outputs": [],
   "source": [
    "# Main loop\n",
    "while(!terminate){\n",
    "    # resuffling train data and associated labels:\n",
    "    train.index <- sample(1:train.len, replace = FALSE)\n",
    "    Phi <- Phi[train.index,]\n",
    "    T <- train.label[train.index]\n",
    "    \n",
    "    for (i in 1:train.len){\n",
    "        if (tau == tau.max) {break}\n",
    "        # Getting the index number of the argument which has the maximum value\n",
    "        c_ind = data.frame(sort(c(Phi[i,]%*%weights[,1],Phi[i,]%*%weights[,2],Phi[i,]%*%weights[,3]),\n",
    "                                  index.return = TRUE))[3,2]\n",
    "        \n",
    "        # look for missclassified samples\n",
    "        if (classes[c_ind]!=T[i]){\n",
    "            \n",
    "            weights[,c_ind] <- weights[,c_ind] - eta * Phi[i,] \n",
    "            \n",
    "            # Finding the index number of original class label from classes vector \n",
    "            original_c_indx = match(T[i],classes)\n",
    "            # updating the values of corresponding column in weights dataframe to have the latest value of weight.\n",
    "            weights[,original_c_indx] <- weights[,original_c_indx] + eta * Phi[i,]\n",
    "            \n",
    "            # update tau counter\n",
    "            tau <- tau +1\n",
    "            \n",
    "            # update the weights\n",
    "            W1[tau,] <- weights[,1];W2[tau,] <- weights[,2];W3[tau,] <- weights[,3]\n",
    "            \n",
    "            # update the record of error\n",
    "            error.trace[tau] <- error(train.len,weights,Phi,classes,T)\n",
    "        }\n",
    "        \n",
    "        if(i%%5 == 0 ){\n",
    "            mini_batch_error[count,2] <- error(test.len,weights,test_phi,classes,test.label)\n",
    "            count <- count+1\n",
    "        }\n",
    "    }\n",
    "    \n",
    "    # decrease eta:\n",
    "    eta = eta * 0.99\n",
    "    # recalculate termination conditions\n",
    "    terminate <- tau >= tau.max | \n",
    "        abs(error.trace[tau]-error.trace[tau-1]) <= epsilon \n",
    "    \n",
    "    \n",
    "}\n",
    "# cut the empty part of the matrix (when the loop stops before tau == tau.max)\n",
    "W1 <- W1[1:tau,];W2 <- W2[1:tau,];W2 <- W2[1:tau,] "
   ]
  },
  {
   "cell_type": "markdown",
   "metadata": {},
   "source": [
    "> ##### Plotting test error vs Number of Mini Batches"
   ]
  },
  {
   "cell_type": "code",
   "execution_count": 32,
   "metadata": {},
   "outputs": [
    {
     "data": {},
     "metadata": {},
     "output_type": "display_data"
    },
    {
     "data": {
      "image/png": "[encoded data removed]",
      "text/plain": [
       "plot without title"
      ]
     },
     "metadata": {},
     "output_type": "display_data"
    }
   ],
   "source": [
    "library(ggplot2)\n",
    "ggplot(mini_batch_error,aes(x=Number,y=error))+geom_line(color=\"blue\") +\n",
    "geom_line() + ggtitle('Test error vs Mini Batches') + theme_minimal()"
   ]
  },
  {
   "cell_type": "markdown",
   "metadata": {},
   "source": [
    "> When tried running the code number of times, the batch number giving the minimum test varies, hence we cannot say anything very confirm about the optimal batch number.\n",
    "> But when run once, we can conclude the optimal batch number which gives the least test error."
   ]
  },
  {
   "cell_type": "code",
   "execution_count": null,
   "metadata": {},
   "outputs": [],
   "source": []
  }
 ],
 "metadata": {
  "kernelspec": {
   "display_name": "R",
   "language": "R",
   "name": "ir"
  },
  "language_info": {
   "codemirror_mode": "r",
   "file_extension": ".r",
   "mimetype": "text/x-r-source",
   "name": "R",
   "pygments_lexer": "r",
   "version": "3.5.1"
  }
 },
 "nbformat": 4,
 "nbformat_minor": 2
}
