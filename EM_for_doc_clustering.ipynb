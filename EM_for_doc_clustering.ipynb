{
 "cells": [
  {
   "cell_type": "markdown",
   "metadata": {},
   "source": [
    "## Part A. Document Clustering\n",
    "In this part, you solve a document clustering problem using unsupervised learning algorithms (i.e., soft and hard Expectation Maximization) for document clustering."
   ]
  },
  {
   "cell_type": "code",
   "execution_count": null,
   "metadata": {},
   "outputs": [],
   "source": [
    "#libraries to be imported\n",
    "library(tm)\n",
    "library(dplyr)\n",
    "library(SnowballC)"
   ]
  },
  {
   "cell_type": "markdown",
   "metadata": {},
   "source": [
    "### Question 1: EM for Document Clustering"
   ]
  },
  {
   "cell_type": "markdown",
   "metadata": {},
   "source": [
    ">##### 1.Derive Expectation and Maximization steps of the hard-EM algorithm for Document Clustering"
   ]
  },
  {
   "cell_type": "markdown",
   "metadata": {},
   "source": [
    "The derivation of EM for hard-EM for document clustering is reported in PDF attached in the submission."
   ]
  },
  {
   "cell_type": "markdown",
   "metadata": {},
   "source": [
    "> ##### 2. Implementation of the Hard-EM and Soft-EM.\\"
   ]
  },
  {
   "cell_type": "code",
   "execution_count": 39,
   "metadata": {},
   "outputs": [],
   "source": [
    "##--- the training objective function --------------------------------------------\n",
    "# Input: \n",
    "#    model:  the model object containing the mu and rho\n",
    "#    counts: the word-document frequency matrix\n",
    "# Output:\n",
    "#    nloglike: the negative log-likelihood i.e. log P(counts|model) \n",
    "\n",
    "# defining eps to handle NaN values\n",
    "eps=1e-10\n",
    "train_obj <- function(model, counts) { \n",
    "  N <- dim(counts)[2] # number of documents\n",
    "  K <- dim(model$mu)[1] # number of clusters\n",
    "   \n",
    "  nloglike = 0\n",
    "  for (n in 1:N){\n",
    "    lprob <- matrix(0,ncol = 1, nrow=K)\n",
    "    for (k in 1:K){\n",
    "      lprob[k,1] = sum(counts[,n] * log(model$mu[k,])) \n",
    "    }\n",
    "    nloglike <- nloglike - logSum(lprob + log(model$rho))\n",
    "  }\n",
    "  \n",
    "  return (nloglike)\n",
    "}"
   ]
  },
  {
   "cell_type": "code",
   "execution_count": 40,
   "metadata": {},
   "outputs": [],
   "source": [
    "#Input: logA1, logA2 ... logAn\n",
    "#Output:log(A1+A2+...+An)\n",
    "#This function is needed to prevent numerical overflow/underflow when working with small numbers, \n",
    "#because we can easily get small numbers by multiplying p1 * p2 * ... * pn (where 0 <= pi <= 1 are probabilities).   \n",
    "\n",
    "logSum <- function(v) {\n",
    "   m = max(v)\n",
    "   return ( m + log(sum(exp(v-m))))\n",
    "}"
   ]
  },
  {
   "cell_type": "code",
   "execution_count": 41,
   "metadata": {},
   "outputs": [],
   "source": [
    "##--- Initialize model parameters randomly --------------------------------------------\n",
    "initial.param <- function(vocab_size, K=4, seed=123456){\n",
    "  rho <- matrix(1/K,nrow = K, ncol=1)                    # assume all clusters have the same size (we will update this later on)\n",
    "  mu <- matrix(runif(K*vocab_size),nrow = K, ncol = vocab_size)    # initiate Mu \n",
    "  mu <- prop.table(mu, margin = 1)               # normalization to ensure that sum of each row is 1\n",
    "  return (list(\"rho\" = rho, \"mu\"= mu))\n",
    "}"
   ]
  },
  {
   "cell_type": "code",
   "execution_count": 42,
   "metadata": {},
   "outputs": [],
   "source": [
    "##--- Cluster Visualization -------------------------------------------------\n",
    "# Function to visualize estimated clusters\n",
    "cluster.viz <- function(doc.word.mat, color.vector, title=' '){\n",
    "  p.comp <- prcomp(doc.word.mat, scale. = TRUE, center = TRUE)\n",
    "  plot(p.comp$x, col=color.vector, pch=1,  main=title)\n",
    "}"
   ]
  },
  {
   "cell_type": "code",
   "execution_count": 43,
   "metadata": {},
   "outputs": [],
   "source": [
    "##--- E Step for Document Clustering  --------------------------------------------\n",
    "#calculate expectation for soft clustering\n",
    "E_soft <- function(gamma, model, counts){\n",
    "  # Model Parameter Setting\n",
    "  N <- dim(counts)[2] # number of documents\n",
    "  K <- dim(model$mu)[1] # number of clusters\n",
    "  # E step:    \n",
    "  for (n in 1:N){\n",
    "     for (k in 1:K){\n",
    "      ## calculate the posterior based on the estimated mu and rho in the \"log space\"\n",
    "      gamma[n,k] <- log(model$rho[k,1]) +  sum(counts[,n] * log(model$mu[k,])) \n",
    "      }\n",
    "      # normalisation to sum to 1 in the log space\n",
    "      logZ = logSum(gamma[n,])\n",
    "      gamma[n,] = gamma[n,] - logZ\n",
    "      }\n",
    "      #converting back \n",
    "      gamma <- exp(gamma)\n",
    "       return (gamma)\n",
    "     }"
   ]
  },
  {
   "cell_type": "code",
   "execution_count": 44,
   "metadata": {},
   "outputs": [],
   "source": [
    "# Calculate expectation for hard clustering\n",
    "E_hard <- function(gamma, model, counts){\n",
    "          # Model Parameter Setting\n",
    "  N <- dim(counts)[2] # number of documents\n",
    "  K <- dim(model$mu)[1] # number of clusters\n",
    "  #Expectation step:\n",
    "        for (n in 1:N){\n",
    "            for (k in 1:K){\n",
    "              ## calculate the posterior based on the estimated mu and rho in the \"log space\"\n",
    "              gamma[n,k] <- log(model$rho[k,1]) +  sum(counts[,n] * log(model$mu[k,])) \n",
    "            }\n",
    "            # normalising the sum to 1 in the log space\n",
    "            logZ = logSum(gamma[n,])\n",
    "            gamma[n,] = gamma[n,] - logZ\n",
    "          }\n",
    "  # Now hard assignment to the clusters\n",
    "      # calculating the cluster with max post probability from gamma\n",
    "        max.prob <- gamma==apply(gamma, 1, max) \n",
    "        gamma[!max.prob] <- 0 # Hard assign each point  with its respective probabilities\n",
    "        gamma[max.prob] <- 1 # Else 1\n",
    "     return (gamma)\n",
    "}"
   ]
  },
  {
   "cell_type": "code",
   "execution_count": 45,
   "metadata": {},
   "outputs": [],
   "source": [
    "#calculating the maximization \n",
    "M.step <- function(gamma, model, counts){\n",
    "  # Model Parameter Setting\n",
    "  N <- dim(counts)[2]   # number of documents\n",
    "  W <- dim(counts)[1]   # number of words i.e. vocabulary size\n",
    "  K <- dim(model$mu)[1] # number of clusters\n",
    "  eps=1e-10 # a small number to prevent NA values\n",
    "  Nk.hat <- model$rho   # cluster sizes\n",
    "  mu <- model$mu  # clusters  \n",
    "\n",
    " for (k in 1:K){\n",
    "       # the effective number of point in cluster k    \n",
    "       Nk.hat[k]<-sum(gamma[,k])/N\n",
    "      }\n",
    "    # assign that probability of each cluster\n",
    "    model$rho<-Nk.hat\n",
    " for (k in 1:K){\n",
    "      for (w in 1:W)\n",
    "        {     \n",
    "           # step to calculate probability that the word belongs to all the clusters and adding eps to prevent values becoming Nan\n",
    "            prob<-(counts[w,] * gamma[,k]) + eps\n",
    "           # Calculating the class probabilities for each word\n",
    "            mu[k,w]<-sum(prob* gamma[,k])/(sum(counts * gamma[,k])+K*eps)\n",
    "        }\n",
    "    }\n",
    "    # normalizing\n",
    "    model$mu<-prop.table(mu, margin = 1)\n",
    "  # Return the result\n",
    "  return (model)\n",
    "}"
   ]
  },
  {
   "cell_type": "code",
   "execution_count": 46,
   "metadata": {},
   "outputs": [],
   "source": [
    "#Soft maximization\n",
    "soft_EM<- function(counts, K=4, max.epoch=10, seed=123456){\n",
    "  \n",
    "  # Model Parameter Setting\n",
    "  N <- dim(counts)[2] # number of documents\n",
    "  W <- dim(counts)[1] # number of unique words (in all documents)\n",
    "  \n",
    "  # Initialization\n",
    "  model <- initial.param(W, K=K, seed=seed)\n",
    "  gamma <- matrix(0, nrow = N, ncol = K)\n",
    "\n",
    "     # Build the model\n",
    "              for(epoch in 1:max.epoch){\n",
    "\n",
    "                    # E Step\n",
    "                    gamma <- E_soft(gamma, model, counts)\n",
    "\n",
    "\n",
    "                    # M Step\n",
    "                    model <- M.step(gamma, model, counts)\n",
    "\n",
    "              }\n",
    "              # Return Model\n",
    "              return(list(\"model\"=model,\"gamma\"=gamma))}"
   ]
  },
  {
   "cell_type": "code",
   "execution_count": 47,
   "metadata": {},
   "outputs": [],
   "source": [
    "#Hard maximization\n",
    "hard_EM<- function(counts, K=4, max.epoch=10, seed=123456){ \n",
    "     # Model Parameter Setting\n",
    "  N <- dim(counts)[2] # number of documents\n",
    "  W <- dim(counts)[1] # number of unique words (in all documents)\n",
    "  \n",
    "  # Initialization\n",
    "  model <- initial.param(W, K=K, seed=seed)\n",
    "  gamma <- matrix(0, nrow = N, ncol = K)\n",
    "  # Build the model\n",
    "  for(epoch in 1:max.epoch){\n",
    "  # Expectation Step\n",
    "      gamma <- E_hard(gamma, model, counts)\n",
    "  # Maximizing Step\n",
    "      model <- M.step(gamma, model, counts)\n",
    "   }\n",
    "   return(list(\"model\"=model,\"gamma\"=gamma)) #return the model\n",
    "}"
   ]
  },
  {
   "cell_type": "markdown",
   "metadata": {},
   "source": [
    ">##### 3. Loading the dataset and preprocessing it for the use."
   ]
  },
  {
   "cell_type": "code",
   "execution_count": 48,
   "metadata": {},
   "outputs": [],
   "source": [
    "# reading\n",
    "  read.data <- function(file.name='Task2A.txt', sample.size=1000, seed=100, pre.proc=TRUE, spr.ratio= 0.90) {\n",
    "  text <- readLines(file.name)\n",
    "  # select a subset of data if sample.size > 0\n",
    "  if (sample.size>0){\n",
    "    set.seed(seed)\n",
    "    text <- text[sample(length(text), sample.size)]\n",
    "  }\n",
    "  ## the terms before the first '\\t' are the lables (the newsgroup names) and all the remaining text after '\\t' are the actual documents\n",
    "  docs <- strsplit(text, '\\t')\n",
    "  # store the labels for evaluation\n",
    "  labels <-  unlist(lapply(docs, function(x) x[1]))\n",
    "  # store the unlabeled texts    \n",
    "  docs <- data.frame(doc_id=1:length(docs),text=unlist(lapply(docs, function(x) x[2])))\n",
    "   # create a corpus\n",
    "  docs <- DataframeSource(docs)\n",
    "  corp <- Corpus(docs)\n",
    "  \n",
    "  # Preprocessing:\n",
    "  if (pre.proc){\n",
    "    corp <- tm_map(corp, removeWords, stopwords(\"english\")) # remove stop words (the most common word in a language that can be find in any document)\n",
    "    corp <- tm_map(corp, removePunctuation) # remove pnctuation\n",
    "    corp <- tm_map(corp, stemDocument) # perform stemming (reducing inflected and derived words to their root form)\n",
    "    corp <- tm_map(corp, removeNumbers) # remove all numbers\n",
    "    corp <- tm_map(corp, stripWhitespace) # remove redundant spaces \n",
    "  }  \n",
    "  # Create a matrix which its rows are the documents and colomns are the words. \n",
    "  dtm <- DocumentTermMatrix(corp)\n",
    "  ## reduce the sparcity of out dtm\n",
    "  dtm <- removeSparseTerms(dtm, spr.ratio)\n",
    "  ## convert dtm to a matrix\n",
    "  word.doc.mat <- t(as.matrix(dtm))\n",
    "  \n",
    "  # Return the result\n",
    "  return (list(\"docs\" = docs, \"word.doc.mat\"= word.doc.mat, \"labels\" = labels))\n",
    "}\n"
   ]
  },
  {
   "cell_type": "markdown",
   "metadata": {},
   "source": [
    ">##### 4. Performing PCA on the clusters that we get based on the hard-EM and soft-EM \n",
    "Implementing Soft EM"
   ]
  },
  {
   "cell_type": "code",
   "execution_count": 49,
   "metadata": {},
   "outputs": [
    {
     "data": {
      "image/png": "[encoded data removed]",
      "text/plain": [
       "Plot with title \"Estimated Clusters for Soft EM \""
      ]
     },
     "metadata": {},
     "output_type": "display_data"
    }
   ],
   "source": [
    "# Reading\n",
    "dataset <- read.data('Task2A.txt', sample.size=0, seed=100, pre.proc=TRUE, spr.ratio= .99)\n",
    "# frequency matrix \n",
    "freq <- dataset$word.doc.mat        \n",
    "soft <- soft_EM(freq, K=4, max.epoch=5)   \n",
    "# visualization\n",
    "#finding clusters with maximum probabililty\n",
    "label.hat <- apply(soft$gamma, 1, which.max) \n",
    "freq<-scale(freq) # normalizing for better visualization\n",
    "#visualizing\n",
    "cluster.viz(t(freq), label.hat, 'Estimated Clusters for Soft EM ')"
   ]
  },
  {
   "cell_type": "markdown",
   "metadata": {},
   "source": [
    " > Implementing Hard EM"
   ]
  },
  {
   "cell_type": "code",
   "execution_count": 50,
   "metadata": {},
   "outputs": [
    {
     "data": {
      "image/png": "[encoded data removed]",
      "text/plain": [
       "Plot with title \"Estimated Clusters for Hard EM\""
      ]
     },
     "metadata": {},
     "output_type": "display_data"
    }
   ],
   "source": [
    "# Reading\n",
    "dataset <- read.data('Task2A.txt', sample.size=0, seed=100, pre.proc=TRUE, spr.ratio= .99)\n",
    "# frequency matrix \n",
    "freq <- dataset$word.doc.mat        \n",
    "# calling the EM algorithm on the data\n",
    "hard <- hard_EM(freq, K=4, max.epoch=5)   \n",
    "# visualization\n",
    "#finding clusters with maximum probabililty\n",
    "label.hat <- apply(hard$gamma, 1, which.max) \n",
    "freq<-scale(freq)  # normalizing for better visualization\n",
    "#visualizing\n",
    "cluster.viz(t(freq), label.hat, 'Estimated Clusters for Hard EM')"
   ]
  },
  {
   "cell_type": "code",
   "execution_count": 51,
   "metadata": {},
   "outputs": [
    {
     "data": {
      "image/png": "[encoded data removed]",
      "text/plain": [
       "Plot with title \"Actual Clusters\""
      ]
     },
     "metadata": {},
     "output_type": "display_data"
    }
   ],
   "source": [
    "## visualize actual clusters\n",
    "cluster.viz(t(freq), factor(dataset$label), 'Actual Clusters')"
   ]
  }
 ],
 "metadata": {
  "kernelspec": {
   "display_name": "R",
   "language": "R",
   "name": "ir"
  },
  "language_info": {
   "codemirror_mode": "r",
   "file_extension": ".r",
   "mimetype": "text/x-r-source",
   "name": "R",
   "pygments_lexer": "r",
   "version": "3.6.1"
  }
 },
 "nbformat": 4,
 "nbformat_minor": 2
}
