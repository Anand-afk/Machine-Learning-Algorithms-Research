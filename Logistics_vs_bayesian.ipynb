{
 "cells": [
  {
   "cell_type": "markdown",
   "metadata": {},
   "source": [
    "## Section F: Logistic Regression vs. Bayesian Classifier\n",
    "This task assesses your analytical skills. You need to study the performance of\n",
    "two well-known generative and discriminative models, i.e. Bayesian classifier\n",
    "and logistic regression, as the size of the training set increases. "
   ]
  },
  {
   "cell_type": "markdown",
   "metadata": {},
   "source": [
    "### Question 7: Discriminative vs Generative Models\n",
    "> ##### 1. Load Task1E_train.csv and Task1E_test.csv as well as the Bayesian classifier (BC) and logistic regression (LR) codes "
   ]
  },
  {
   "cell_type": "code",
   "execution_count": 33,
   "metadata": {},
   "outputs": [],
   "source": [
    "#installing packages for melting and ploting \n",
    "options(warn = -1)\n",
    "library(ggplot2)\n",
    "library(mvtnorm)\n",
    "library(reshape2)"
   ]
  },
  {
   "cell_type": "code",
   "execution_count": 34,
   "metadata": {},
   "outputs": [],
   "source": [
    "#reading the data\n",
    "data_train <- read.csv(file = \"Task1E_train.csv\",head=TRUE)\n",
    "data_test <- read.csv(file = \"Task1E_test.csv\",head=TRUE)"
   ]
  },
  {
   "cell_type": "code",
   "execution_count": 35,
   "metadata": {},
   "outputs": [],
   "source": [
    "#Splitting into data and labels\n",
    "train.data = data_train[-3]\n",
    "test.data = data_test[-3]\n",
    "\n",
    "train.label = data_train[,3]\n",
    "test.label = data_test[,3]\n",
    "#Specifying Class Labels\n",
    "c0 <- '1'; c1 <- '-1'"
   ]
  },
  {
   "cell_type": "code",
   "execution_count": 36,
   "metadata": {},
   "outputs": [],
   "source": [
    "#Covariance Matrix\n",
    "sigma <- matrix(c(1, 0, 0, 1), nrow=2, ncol=2, byrow = TRUE)\n",
    "sigma0 <- sigma; sigma1 <- sigma"
   ]
  },
  {
   "cell_type": "markdown",
   "metadata": {},
   "source": [
    "> Bayesian Classifier"
   ]
  },
  {
   "cell_type": "code",
   "execution_count": 37,
   "metadata": {},
   "outputs": [],
   "source": [
    "bayesian_classifier <- function(train.data, train.label, test.label, test.data){\n",
    "    # Class probabilities:\n",
    "    p0.hat <- sum(train.label==c0)/nrow(train.data) # total number of samples in class 0 divided by the total nmber of training data\n",
    "    p1.hat <- sum(train.label==c1)/nrow(train.data) # or simply 1 - p1.hat\n",
    "\n",
    "    # Class means:\n",
    "    mu0.hat <- colMeans(train.data[train.label==c0,])\n",
    "    mu1.hat <- colMeans(train.data[train.label==c1,])\n",
    "\n",
    "    # class covariance matrices:\n",
    "    sigma0.hat <- var(train.data[train.label==c0,])\n",
    "    sigma1.hat <- var(train.data[train.label==c1,])\n",
    "\n",
    "    # shared covariance matrix:\n",
    "    sigma.hat <- p0.hat * sigma0.hat + p1.hat * sigma1.hat \n",
    "\n",
    "    # calculate posteriors:\n",
    "    posterior0 <- p0.hat*dmvnorm(x=train.data, mean=mu0.hat, sigma=sigma.hat)\n",
    "    posterior1 <- p1.hat*dmvnorm(x=train.data, mean=mu1.hat, sigma=sigma.hat)\n",
    "\n",
    "    # calculate predictions:\n",
    "    train.predict <- ifelse(posterior0 > posterior1, c0, c1)\n",
    "    test.predict <- ifelse(p0.hat*dmvnorm(x=test.data, mean=mu0.hat, sigma=sigma.hat) > p1.hat*dmvnorm(x=test.data, mean=mu1.hat, sigma=sigma.hat), c0, c1)\n",
    "    \n",
    "    # calculate test errors\n",
    "    test.error <- sum(test.label != test.predict)/nrow(test.data)*100\n",
    "    return(test.error)\n",
    "    \n",
    "}"
   ]
  },
  {
   "cell_type": "markdown",
   "metadata": {},
   "source": [
    "> Logistic Regression"
   ]
  },
  {
   "cell_type": "code",
   "execution_count": 38,
   "metadata": {},
   "outputs": [],
   "source": [
    "# auxiliary function that predicts class labels\n",
    "predict <- function(w, X, c0, c1){\n",
    "    sig <- sigmoid(w, X)\n",
    "    return(ifelse(sig>0.5, c1,c0))\n",
    "}\n",
    "    \n",
    "# auxiliary function that calculate a cost function\n",
    "cost <- function (w, X, T, c0){\n",
    "    sig <- sigmoid(w, X)\n",
    "    return(sum(ifelse(T==c0, 1-sig, sig)))\n",
    "}\n",
    "\n",
    "# Sigmoid function (=p(C1|X))\n",
    "sigmoid <- function(w, x){\n",
    "    return(1.0/(1.0+exp(-w%*%t(cbind(1,x)))))    \n",
    "}"
   ]
  },
  {
   "cell_type": "code",
   "execution_count": 39,
   "metadata": {},
   "outputs": [],
   "source": [
    "logistic_regression <- function(train.data, train.label, test.label, test.data){\n",
    "    tau.max <- 1000 # maximum number of iterations\n",
    "    eta <- 0.01 # learning rate\n",
    "    epsilon <- 0.01 # a threshold on the cost (to terminate the process)\n",
    "    tau <- 1 # iteration counter\n",
    "    #Initial Termination Term\n",
    "    terminate <- FALSE\n",
    "    \n",
    "    train.len <- nrow(train.data)\n",
    "    \n",
    "    ## Just a few name/type conversion to make the rest of the code easy to follow\n",
    "    X <- as.matrix(train.data) # for the sake of convenience\n",
    "    T <- ifelse(train.label==c0,0,1) # rename just for conviniance\n",
    "\n",
    "    W <- matrix(,nrow=tau.max, ncol=(ncol(X)+1)) # to be used to store the estimated coefficients\n",
    "    W[1,] <- runif(ncol(W)) # initial weight\n",
    "\n",
    "    # project data using the sigmoid function (just for convenient)\n",
    "    Y <- sigmoid(W[1,],X)\n",
    "\n",
    "    costs <- data.frame('tau'=1:tau.max)  # to be used to trace the cost in each iteration\n",
    "    costs[1, 'cost'] <- cost(W[1,],X,T, c0)\n",
    "    \n",
    "    while(!terminate){\n",
    "    # check termination criteria:\n",
    "    terminate <- tau >= tau.max | cost(W[tau,],X,T, c0)<=epsilon\n",
    "    \n",
    "    # shuffle data:\n",
    "    train.index <- sample(1:train.len, train.len, replace = FALSE)\n",
    "    X <- X[train.index,]\n",
    "    T <- T[train.index]\n",
    "    \n",
    "    # for each datapoint:\n",
    "    for (i in 1:train.len){\n",
    "        \n",
    "        # check termination criteria:\n",
    "        if (tau >= tau.max | cost(W[tau,],X,T, c0) <=epsilon) {terminate<-TRUE;break}\n",
    "        \n",
    "        Y <- sigmoid(W[tau,],X)\n",
    "            \n",
    "        # Update the weights\n",
    "        W[(tau+1),] <- W[tau,] - eta * (Y[i]-T[i]) * cbind(1, t(X[i,]))\n",
    "        \n",
    "        # record the cost:\n",
    "        costs[(tau+1), 'cost'] <- cost(W[tau,],X,T, c0)\n",
    "        \n",
    "        # update the counter:\n",
    "        tau <- tau + 1\n",
    "        \n",
    "        # decrease learning rate:\n",
    "        eta = eta * 0.999\n",
    "    }\n",
    "}\n",
    "    # Done!\n",
    "    costs <- costs[1:tau, ] # remove the NaN tail of the vector (in case of early stopping)\n",
    "\n",
    "    # the  final result is:    \n",
    "    w <- W[tau,]\n",
    "    \n",
    "    # calculate predictions:\n",
    "    test.predict <- predict(w, test.data, c0, c1)\n",
    "\n",
    "    test.error <- sum(test.label != test.predict)/nrow(test.data)*100\n",
    "    return(test.error)\n",
    "    \n",
    "}"
   ]
  },
  {
   "cell_type": "markdown",
   "metadata": {},
   "source": [
    "> ##### 2. Using the first 5 data points from the training set, train a BC and a LR model, and compute their test errors. "
   ]
  },
  {
   "cell_type": "code",
   "execution_count": 47,
   "metadata": {},
   "outputs": [],
   "source": [
    "# For loop to increase the size of training set (5 data points at a time) and calculate test errors for both \n",
    "# Bayesian Classifier and Logistic Regression models until all training\n",
    "sample = seq(from = 5, to = nrow(data_train), by = 5)\n",
    "\n",
    "er_test = matrix(0, nrow = length(sample), ncol = 3) # empty matrix to store test errors for Bayesian Classifier\n",
    "\n",
    "colnames(er_test) = c('Set_Size', 'Bayesian_Classifer', 'Logistic_Regression')\n",
    "mat_index = 1 # matrix index to store test errors\n",
    "for (size in sample){\n",
    "   \n",
    "    er_test[mat_index, 1] = size\n",
    "    er_test[mat_index, 2] = bayesian_classifier(train.data[1:size,], train.label[1:size], test.label, test.data)\n",
    "    er_test[mat_index, 3] = logistic_regression(train.data[1:size,], train.label[1:size], test.label, test.data)\n",
    "    mat_index = mat_index + 1\n",
    "}"
   ]
  },
  {
   "cell_type": "code",
   "execution_count": 48,
   "metadata": {},
   "outputs": [
    {
     "data": {},
     "metadata": {},
     "output_type": "display_data"
    },
    {
     "data": {
      "image/png": "[encoded data removed]",
      "text/plain": [
       "plot without title"
      ]
     },
     "metadata": {},
     "output_type": "display_data"
    }
   ],
   "source": [
    "er_test.m <- melt(as.data.frame(er_test), id='Set_Size')\n",
    "ggplot(data=er_test.m, aes(x = Set_Size, y = value, color=variable)) + geom_line(size=.75) + \n",
    "  geom_line(stat=\"smooth\",method = \"loess\",formula = y ~ poly(x, 2),\n",
    "              size = 1.5,\n",
    "              linetype =\"dashed\",\n",
    "              alpha = 0.5)+\n",
    "        labs(x = \"Train Set Size\", y = \"Test Error\") +  theme_minimal() + ggtitle(\"Bayesian Classifier vs Logistic Regression [Errors]\")"
   ]
  },
  {
   "cell_type": "markdown",
   "metadata": {},
   "source": [
    "We can notice that the graphs extremely left skewed and that is because of an outlier as the batch size of 5 doesn't generate a meaningful co-variance matrix and hence interferes with the error values and final plot. Thus, in the next step, we can create a subset of the dataframe excluding the first row and use it for further plotting which will give a better undertstanding of the plot and derive a meaningful conclusion."
   ]
  },
  {
   "cell_type": "code",
   "execution_count": 45,
   "metadata": {
    "scrolled": true
   },
   "outputs": [],
   "source": [
    "# Subsetting excluding the first row\n",
    "sub <- er_test[-1,]"
   ]
  },
  {
   "cell_type": "code",
   "execution_count": 44,
   "metadata": {
    "scrolled": false
   },
   "outputs": [
    {
     "data": {},
     "metadata": {},
     "output_type": "display_data"
    },
    {
     "data": {
      "image/png": "[encoded data removed]",
      "text/plain": [
       "plot without title"
      ]
     },
     "metadata": {},
     "output_type": "display_data"
    }
   ],
   "source": [
    "sub.m <- melt(as.data.frame(sub), id='Set_Size')\n",
    "ggplot(data=sub.m, aes(x = Set_Size, y = value, color=variable)) + \n",
    " geom_line(size=.75) + \n",
    "  geom_line(stat=\"smooth\",method = \"loess\",formula = y ~ poly(x, 2),\n",
    "              size = 1.5,\n",
    "              linetype =\"dashed\",\n",
    "              alpha = 0.5)+ \n",
    "        labs(x = \"Train Set Size\", y = \"Test Error\") + ggtitle(\"Bayesian Classifier vs Logistic Regression [Errors]\")"
   ]
  },
  {
   "cell_type": "markdown",
   "metadata": {},
   "source": [
    "> ##### 3. Explain your observations in your Jupyter Notebook file.:\n",
    "\n",
    "> a. What does happen for each classifier when the number of training data points is increased? \n",
    "> * When the training points are increased, the test and training error for each classifier decreases as we can see from the graph above where the lowest error rates are observed between 350-400. It shows a gradual increase in the trend according to the smoothing line, but on observing the actual plot, we can observe that the error rate remains steady.\n",
    " \n",
    "> b. Which classifier is best suited when the training set is small, and which is best suited when the training set is big? \n",
    "> * Small - Bayesian, Large - Logistic, because Bayesian converges quickly, since for small datasets, Bayesian classifier converges quickly\n",
    " \n",
    "> c. Justify your observations in previous questions (III.a & III.b) by providing some speculations and possible reasons.  \n",
    "> * Although we see that on a general trend logistic regression performs better with lesser error rates, in smaller datasets, Basyesian Classifer can provide a better result as observed in the intial ranges between 0-150."
   ]
  },
  {
   "cell_type": "code",
   "execution_count": null,
   "metadata": {},
   "outputs": [],
   "source": []
  }
 ],
 "metadata": {
  "kernelspec": {
   "display_name": "R",
   "language": "R",
   "name": "ir"
  },
  "language_info": {
   "codemirror_mode": "r",
   "file_extension": ".r",
   "mimetype": "text/x-r-source",
   "name": "R",
   "pygments_lexer": "r",
   "version": "3.5.1"
  }
 },
 "nbformat": 4,
 "nbformat_minor": 2
}
