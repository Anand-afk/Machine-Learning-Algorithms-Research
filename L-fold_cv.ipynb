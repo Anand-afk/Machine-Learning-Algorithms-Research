{
 "cells": [
  {
   "cell_type": "markdown",
   "metadata": {},
   "source": [
    "## Section A: Model Complexity and Model Selection"
   ]
  },
  {
   "cell_type": "markdown",
   "metadata": {},
   "source": [
    "### Question 2: L-fold Cross Validation\n",
    "> ##### 1. Implement L-Fold cross validation for KNN regressor"
   ]
  },
  {
   "cell_type": "code",
   "execution_count": 25,
   "metadata": {},
   "outputs": [],
   "source": [
    "#importing libraries\n",
    "library(reshape2)\n",
    "library(ggplot2)"
   ]
  },
  {
   "cell_type": "code",
   "execution_count": 26,
   "metadata": {},
   "outputs": [],
   "source": [
    "#read train and test dataset\n",
    "train_data=read.csv(\"Task1A_train.csv\")\n",
    "test_data=read.csv(\"Task1A_test.csv\")"
   ]
  },
  {
   "cell_type": "code",
   "execution_count": 27,
   "metadata": {},
   "outputs": [],
   "source": [
    "train.data <- train_data['x1'] # select first column \n",
    "train.label <- train_data['y'] #select the label column (y)\n",
    "test.data <- test_data['x1'] # select first column from test dataset\n",
    "test.label <- test_data['y'] # select second column as test label\n"
   ]
  },
  {
   "cell_type": "markdown",
   "metadata": {},
   "source": [
    "> KNN Regressor"
   ]
  },
  {
   "cell_type": "code",
   "execution_count": 17,
   "metadata": {},
   "outputs": [],
   "source": [
    "knn <- function(train.data, train.label, test.data, K, distance = 'euclidean'){\n",
    "    ## count number of train samples\n",
    "    train.len <- nrow(train.data)\n",
    "    ## count number of test samples\n",
    "    test.len <- nrow(test.data)\n",
    "    \n",
    "    ## calculate distances between samples\n",
    "    dist <- as.matrix(dist(rbind(test.data, train.data), method= distance))[1:test.len, (test.len+1):(test.len+train.len)]\n",
    "    \n",
    "    test.label<-c()\n",
    "    ## for each test sample...\n",
    "    for (i in 1:test.len){\n",
    "        ### ...find its K nearest neighbours from training sampels...\n",
    "        nn <- as.data.frame(sort(dist[i,], index.return = TRUE))[1:K,2]\n",
    "        \n",
    "        ###... and calculate the predicted labels according to the majority vote\n",
    "        test.label[i]<- (mean(train.label[nn,1]))\n",
    "        \n",
    "    }\n",
    "    \n",
    "    ## return the class labels as output\n",
    "    return (test.label)\n",
    "}"
   ]
  },
  {
   "cell_type": "markdown",
   "metadata": {},
   "source": [
    "> L-fold Cross Validation"
   ]
  },
  {
   "cell_type": "code",
   "execution_count": 18,
   "metadata": {},
   "outputs": [],
   "source": [
    "#Randomly shuffle the data\n",
    "cv<-function(train.data,train.label,K,numFold=10)\n",
    "{\n",
    "    miss <- data.frame('K'=1:10, 'Error'=rep(0,10))\n",
    "\n",
    "#Create 10 equally size folds\n",
    "folds <- rep_len(1:numFold,nrow(train.data))\n",
    "\n",
    "#Perform 10 fold cross validation\n",
    "for(i in 1:numFold){\n",
    "    #Segement your data by fold using the which() function \n",
    "    testIndex <- which(folds==i,arr.ind=TRUE)\n",
    "    testData <- train.data[testIndex, ]\n",
    "    testLabel <- train.label[testIndex, ]\n",
    "    trainData <- train.data[-testIndex, ]\n",
    "    trainLabel <- train.label[-testIndex, ]\n",
    "\n",
    "    trainData= data.frame(trainData)\n",
    "    \n",
    "    colnames(trainData)[1]<-\"x1\"\n",
    "    trainLabel<-data.frame(y<-trainLabel)\n",
    "    colnames(trainLabel)[1]<-\"y\"\n",
    "    testData<-data.frame(x1<-testData)\n",
    "    colnames(testData)[1]<-\"x1\"\n",
    "    miss[i,'Error'] <- sqrt(sum((knn(trainData, trainLabel, testData, K=K)- testLabel)**2)/nrow(testData))\n",
    "    #Use the test and train data partitions however you desire...\n",
    "}\n",
    "    return(mean(miss$Error))\n",
    "}"
   ]
  },
  {
   "cell_type": "markdown",
   "metadata": {},
   "source": [
    "> ##### 2. L-fold CV for k =1:15 and numFold = 10"
   ]
  },
  {
   "cell_type": "code",
   "execution_count": 28,
   "metadata": {},
   "outputs": [],
   "source": [
    "miss <- data.frame('K'=1:15, 'Error'=rep(0,15))\n",
    "for (K in 1:15){\n",
    "    miss[K,'Error'] <- cv(train.data,train.label,K,10)\n",
    "}"
   ]
  },
  {
   "cell_type": "code",
   "execution_count": 29,
   "metadata": {},
   "outputs": [
    {
     "data": {},
     "metadata": {},
     "output_type": "display_data"
    },
    {
     "data": {
      "image/png": "[encoded data removed]",
      "text/plain": [
       "plot without title"
      ]
     },
     "metadata": {},
     "output_type": "display_data"
    }
   ],
   "source": [
    "miss.m <- melt(miss, id='K') # reshape for visualization\n",
    "names(miss.m) <- c('K', 'type', 'error')\n",
    "ggplot(data=miss.m, aes(x=log(1/K), y=error, color=type)) + geom_line() +\n",
    "       scale_color_discrete(guide = guide_legend(title = NULL)) + theme_minimal() +\n",
    "       ggtitle(\"Missclassification Error\")"
   ]
  },
  {
   "cell_type": "markdown",
   "metadata": {},
   "source": [
    "> ##### 3. Report Optimum value for K\n",
    "> * The optimum value for K is 4 as we can see from the above plot and also from the below code. The error at K = 4 is 0.4105 is the lowest.\n",
    "> * As we increase the K, we can see the trend going downwards, that is the error decreases as we increase the K.\n",
    "> * After we passed the optimum value K, we can see the trend upwards, the error starts increasing again."
   ]
  },
  {
   "cell_type": "code",
   "execution_count": 53,
   "metadata": {},
   "outputs": [
    {
     "data": {
      "text/html": [
       "<table>\n",
       "<thead><tr><th scope=col>K</th><th scope=col>Error</th></tr></thead>\n",
       "<tbody>\n",
       "\t<tr><td>4        </td><td>0.4105932</td></tr>\n",
       "\t<tr><td>2        </td><td>0.4530109</td></tr>\n",
       "\t<tr><td>3        </td><td>0.4779199</td></tr>\n",
       "\t<tr><td>5        </td><td>0.5257789</td></tr>\n",
       "\t<tr><td>6        </td><td>0.6085199</td></tr>\n",
       "\t<tr><td>1        </td><td>0.6383661</td></tr>\n",
       "</tbody>\n",
       "</table>\n"
      ],
      "text/latex": [
       "\\begin{tabular}{r|ll}\n",
       " K & Error\\\\\n",
       "\\hline\n",
       "\t 4         & 0.4105932\\\\\n",
       "\t 2         & 0.4530109\\\\\n",
       "\t 3         & 0.4779199\\\\\n",
       "\t 5         & 0.5257789\\\\\n",
       "\t 6         & 0.6085199\\\\\n",
       "\t 1         & 0.6383661\\\\\n",
       "\\end{tabular}\n"
      ],
      "text/markdown": [
       "\n",
       "K | Error | \n",
       "|---|---|---|---|---|---|\n",
       "| 4         | 0.4105932 | \n",
       "| 2         | 0.4530109 | \n",
       "| 3         | 0.4779199 | \n",
       "| 5         | 0.5257789 | \n",
       "| 6         | 0.6085199 | \n",
       "| 1         | 0.6383661 | \n",
       "\n",
       "\n"
      ],
      "text/plain": [
       "  K Error    \n",
       "1 4 0.4105932\n",
       "2 2 0.4530109\n",
       "3 3 0.4779199\n",
       "4 5 0.5257789\n",
       "5 6 0.6085199\n",
       "6 1 0.6383661"
      ]
     },
     "metadata": {},
     "output_type": "display_data"
    }
   ],
   "source": [
    "library(plyr)\n",
    "head(arrange(miss,(Error),K))"
   ]
  },
  {
   "cell_type": "code",
   "execution_count": null,
   "metadata": {},
   "outputs": [],
   "source": []
  }
 ],
 "metadata": {
  "kernelspec": {
   "display_name": "R",
   "language": "R",
   "name": "ir"
  },
  "language_info": {
   "codemirror_mode": "r",
   "file_extension": ".r",
   "mimetype": "text/x-r-source",
   "name": "R",
   "pygments_lexer": "r",
   "version": "3.5.1"
  }
 },
 "nbformat": 4,
 "nbformat_minor": 2
}
