{
 "cells": [
  {
   "cell_type": "markdown",
   "metadata": {},
   "source": [
    "## Section A: Model Complexity and Model Selection\n",
    "In this section, you study the effect of model complexity on the training and testing error. You also demonstrate your programming skills by developing a regression algorithm and a cross-validation technique that will be used to select\n",
    "the models with the most effective complexity.\n",
    "\n"
   ]
  },
  {
   "cell_type": "markdown",
   "metadata": {},
   "source": [
    "### Question 1: KNN Regressor\n",
    "> ##### 1. Implement the KNN regressor function :"
   ]
  },
  {
   "cell_type": "code",
   "execution_count": 53,
   "metadata": {},
   "outputs": [],
   "source": [
    "#libraries\n",
    "library(ggplot2)\n",
    "library(reshape2)"
   ]
  },
  {
   "cell_type": "code",
   "execution_count": 54,
   "metadata": {},
   "outputs": [],
   "source": [
    "#reading the datasets\n",
    "train_data <- read.csv(file=\"Task1A_train.csv\", header=TRUE, sep=\",\")\n",
    "test_data <- read.csv(file=\"Task1A_test.csv\", header=TRUE, sep=\",\")"
   ]
  },
  {
   "cell_type": "code",
   "execution_count": 55,
   "metadata": {},
   "outputs": [],
   "source": [
    "#breaking the dataset in to train and test label,data\n",
    "train.data <- train_data[1:nrow(train_data),-2] # grab the first 42 records, leave out the label (last column)\n",
    "train.label <- train_data[1:nrow(train_data),2]\n",
    "test.data <- test_data[1:nrow(test_data), -2] # grab the last 42 records, leave out the label (last column)\n",
    "test.label <- test_data[1:nrow(test_data), 2]"
   ]
  },
  {
   "cell_type": "code",
   "execution_count": 56,
   "metadata": {},
   "outputs": [],
   "source": [
    "#knn regressor function\n",
    "knn <- function(train.data, train.label, test.data, K=4, distance = 'euclidean'){\n",
    "    ## count number of train samples\n",
    "    train.len <- length(train.data)\n",
    "    ## count number of test samples\n",
    "    test.len <- length(test.data)\n",
    "    \n",
    "    ## calculate distances between samples\n",
    "    dist <- as.matrix(dist(c(test.data, train.data), method= distance))[1:test.len, (test.len+1):(test.len+train.len)]\n",
    "    \n",
    "    ## for each test sample...\n",
    "    for (i in 1:train.len){\n",
    "        ### ...find its K nearest neighbours from training sampels...\n",
    "        nn <- as.data.frame(sort(dist[i,], index.return = TRUE))[1:K,2]\n",
    "        \n",
    "        ###... and calculate the predicted labels according to the majority vote\n",
    "        test.label[i]<- (mean(train.label[nn]))\n",
    "        \n",
    "    }\n",
    "    \n",
    "    ## return the class labels as output\n",
    "    return (test.label)\n",
    "}"
   ]
  },
  {
   "cell_type": "code",
   "execution_count": 57,
   "metadata": {},
   "outputs": [],
   "source": [
    "# calculate the train and test missclassification rates for K in 1:42\n",
    "miss <- data.frame('K'=1:20, 'train'=rep(0,20), 'test'=rep(0,20))\n",
    "for (k in 1:20){\n",
    "    miss[k,'train'] <- sqrt(mean((knn(train.data, train.label, train.data, K=k)- train.label)^2))\n",
    "    miss[k,'test'] <-  sqrt(mean((knn(train.data, train.label, test.data, K=k) - test.label)^2))\n",
    "}"
   ]
  },
  {
   "cell_type": "markdown",
   "metadata": {},
   "source": [
    "> ##### 2. Plot the training and testing error verus 1/K for K=1,...20"
   ]
  },
  {
   "cell_type": "code",
   "execution_count": 67,
   "metadata": {},
   "outputs": [
    {
     "data": {},
     "metadata": {},
     "output_type": "display_data"
    },
    {
     "data": {
      "image/png": "[encoded data removed]",
      "text/plain": [
       "plot without title"
      ]
     },
     "metadata": {},
     "output_type": "display_data"
    }
   ],
   "source": [
    "miss.m <- melt(miss, id='K') # reshape for visualization\n",
    "names(miss.m) <- c('K', 'type', 'error')\n",
    "ggplot(data=miss.m, aes(x=log(1/K), y=error, color=type)) + geom_line() +\n",
    "       scale_color_discrete(guide = guide_legend(title = NULL)) + theme_minimal() +\n",
    "       ggtitle(\"Error\")"
   ]
  },
  {
   "cell_type": "markdown",
   "metadata": {},
   "source": [
    "> ##### 3. Report optimum value for K.\n",
    "> * Observing the following table and the plot above, we can claim that K = 9 and 11 is the optimum value where the testing error is the least.\n",
    "> * Choosing the optimum value for K is very crucial, since if not, we can face problems like underfitting and over fitting.\n",
    "If we were to choose K which gives lowest training error, then we cannot use the model to predict values for a new dataset, because it would give us high variance, and on the other hand if we choose a K which gives us low test error then, it would give us high bias towards the training error.\n",
    "> * Hence we have chosen a optimum value, tolerating some bias we can avoid high variance and hence at K =10 we get the optimum value. "
   ]
  },
  {
   "cell_type": "code",
   "execution_count": 66,
   "metadata": {},
   "outputs": [
    {
     "data": {
      "text/html": [
       "<table>\n",
       "<thead><tr><th scope=col>K</th><th scope=col>train</th><th scope=col>test</th></tr></thead>\n",
       "<tbody>\n",
       "\t<tr><td>11       </td><td>1.2087154</td><td>0.9527024</td></tr>\n",
       "\t<tr><td> 9       </td><td>0.9474979</td><td>0.9770276</td></tr>\n",
       "\t<tr><td>10       </td><td>1.0768843</td><td>1.0227636</td></tr>\n",
       "\t<tr><td>13       </td><td>1.4509316</td><td>1.0243344</td></tr>\n",
       "\t<tr><td> 7       </td><td>0.6645726</td><td>1.0388807</td></tr>\n",
       "\t<tr><td>12       </td><td>1.3171023</td><td>1.0531665</td></tr>\n",
       "</tbody>\n",
       "</table>\n"
      ],
      "text/latex": [
       "\\begin{tabular}{r|lll}\n",
       " K & train & test\\\\\n",
       "\\hline\n",
       "\t 11        & 1.2087154 & 0.9527024\\\\\n",
       "\t  9        & 0.9474979 & 0.9770276\\\\\n",
       "\t 10        & 1.0768843 & 1.0227636\\\\\n",
       "\t 13        & 1.4509316 & 1.0243344\\\\\n",
       "\t  7        & 0.6645726 & 1.0388807\\\\\n",
       "\t 12        & 1.3171023 & 1.0531665\\\\\n",
       "\\end{tabular}\n"
      ],
      "text/markdown": [
       "\n",
       "K | train | test | \n",
       "|---|---|---|---|---|---|\n",
       "| 11        | 1.2087154 | 0.9527024 | \n",
       "|  9        | 0.9474979 | 0.9770276 | \n",
       "| 10        | 1.0768843 | 1.0227636 | \n",
       "| 13        | 1.4509316 | 1.0243344 | \n",
       "|  7        | 0.6645726 | 1.0388807 | \n",
       "| 12        | 1.3171023 | 1.0531665 | \n",
       "\n",
       "\n"
      ],
      "text/plain": [
       "  K  train     test     \n",
       "1 11 1.2087154 0.9527024\n",
       "2  9 0.9474979 0.9770276\n",
       "3 10 1.0768843 1.0227636\n",
       "4 13 1.4509316 1.0243344\n",
       "5  7 0.6645726 1.0388807\n",
       "6 12 1.3171023 1.0531665"
      ]
     },
     "metadata": {},
     "output_type": "display_data"
    }
   ],
   "source": [
    "library(plyr)\n",
    "head(arrange(miss,(test),K))"
   ]
  },
  {
   "cell_type": "code",
   "execution_count": null,
   "metadata": {},
   "outputs": [],
   "source": []
  }
 ],
 "metadata": {
  "kernelspec": {
   "display_name": "R",
   "language": "R",
   "name": "ir"
  },
  "language_info": {
   "codemirror_mode": "r",
   "file_extension": ".r",
   "mimetype": "text/x-r-source",
   "name": "R",
   "pygments_lexer": "r",
   "version": "3.5.1"
  }
 },
 "nbformat": 4,
 "nbformat_minor": 2
}
