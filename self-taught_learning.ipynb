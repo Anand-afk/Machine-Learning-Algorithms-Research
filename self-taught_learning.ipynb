{
 "cells": [
  {
   "cell_type": "markdown",
   "metadata": {},
   "source": [
    "## Section C: Self-Taught Learning\n",
    "In this part, you implement self-taught learning for NN using the Autoencoder that is provided in Activity 5.2 and 3-layer NN."
   ]
  },
  {
   "cell_type": "markdown",
   "metadata": {},
   "source": [
    "### Question 3: Self Taught Neural Network Learning\n",
    ">##### 1. Installing and importing libraries and loading the datasets.We will use Task2C_labeled.csv for training the classifier and evaluate on the test dataset."
   ]
  },
  {
   "cell_type": "code",
   "execution_count": 14,
   "metadata": {},
   "outputs": [],
   "source": [
    "#installing the h2o and BBmisc library\n",
    "#install.packages('h2o')\n",
    "library(h2o)\n",
    "#install.packages('BBmisc')\n",
    "library (BBmisc)"
   ]
  },
  {
   "cell_type": "code",
   "execution_count": 15,
   "metadata": {},
   "outputs": [
    {
     "name": "stdout",
     "output_type": "stream",
     "text": [
      " Connection successful!\n",
      "\n",
      "R is connected to the H2O cluster: \n",
      "    H2O cluster uptime:         53 minutes 37 seconds \n",
      "    H2O cluster timezone:       Australia/Sydney \n",
      "    H2O data parsing timezone:  UTC \n",
      "    H2O cluster version:        3.26.0.2 \n",
      "    H2O cluster version age:    2 months and 24 days  \n",
      "    H2O cluster name:           H2O_started_from_R_Roshi_wjn483 \n",
      "    H2O cluster total nodes:    1 \n",
      "    H2O cluster total memory:   4.38 GB \n",
      "    H2O cluster total cores:    8 \n",
      "    H2O cluster allowed cores:  8 \n",
      "    H2O cluster healthy:        TRUE \n",
      "    H2O Connection ip:          localhost \n",
      "    H2O Connection port:        54321 \n",
      "    H2O Connection proxy:       NA \n",
      "    H2O Internal Security:      FALSE \n",
      "    H2O API Extensions:         Amazon S3, Algos, AutoML, Core V3, Core V4 \n",
      "    R Version:                  R version 3.6.1 (2019-07-05) \n",
      "\n"
     ]
    }
   ],
   "source": [
    "#If there is a proxy: proxy.old <- Sys.getenv('http_proxy'); Sys.setenv('http_proxy'='');\n",
    "localH2O =  h2o.init(nthreads = -1, port = 54321, max_mem_size = '6G', startH2O = TRUE)\n"
   ]
  },
  {
   "cell_type": "code",
   "execution_count": 16,
   "metadata": {},
   "outputs": [
    {
     "name": "stdout",
     "output_type": "stream",
     "text": [
      "  |======================================================================| 100%\n",
      "  |======================================================================| 100%\n",
      "  |======================================================================| 100%\n"
     ]
    }
   ],
   "source": [
    "#to get rid of warnings\n",
    "options(warn=-1)\n",
    "# importing all the datasets into respective dataframes.\n",
    "labeled.frame <-  read.csv(\"Task2C_labeled.csv\")\n",
    "unlabeled.frame <- read.csv(\"Task2C_unlabeled.csv\")\n",
    "test.frame <- read.csv(\"Task2C_test.csv\")\n",
    "\n",
    "# Omiting the Null values in the dataframes\n",
    "labeled.frame <- labeled.frame[complete.cases(labeled.frame),]\n",
    "unlabeled.frame <- unlabeled.frame[complete.cases(unlabeled.frame),]\n",
    "test.frame <- test.frame[complete.cases(test.frame),]\n",
    "\n",
    "# Converting the Label column into factors\n",
    "labeled.frame$label <- as.factor(labeled.frame$label)\n",
    "unlabeled.frame$label <- as.factor(unlabeled.frame$label)\n",
    "test.frame$label <- as.factor(test.frame$label)\n",
    "\n",
    "# Except the label columns normalising between 0 and 1. \n",
    "labeled.frame <- normalize(labeled.frame, method = \"standardize\", range = c(0,1), margin = 2L)\n",
    "unlabeled.frame <- normalize(unlabeled.frame, method = \"standardize\", range = c(0,1), margin = 2L)\n",
    "test.frame <- normalize(test.frame, method = \"standardize\", range = c(0,1), margin = 2L)\n",
    "\n",
    "# Converting the dataframe to h2oframe\n",
    "labeled.frame <- as.h2o(labeled.frame)\n",
    "unlabeled.frame <- as.h2o(unlabeled.frame)\n",
    "test.frame <- as.h2o(test.frame)\n",
    "\n",
    "# Converting the label column as a factor\n",
    "labeled.frame[,1] <- as.factor(labeled.frame$label)\n",
    "# initiating with NA in labels column\n",
    "unlabeled.frame[,1] <- NA\n",
    "# binding the label and unlabeled data and forming a dataframe\n",
    "train.frame <- h2o.rbind(labeled.frame[,-1], unlabeled.frame[,-1])\n",
    "test.frame[,1] <- as.factor(test.frame$label)"
   ]
  },
  {
   "cell_type": "markdown",
   "metadata": {},
   "source": [
    "> ##### 2. Autoencoder : Training the autoencoder with one hidden layer and changing neurons 20,40....500."
   ]
  },
  {
   "cell_type": "code",
   "execution_count": 17,
   "metadata": {},
   "outputs": [
    {
     "name": "stdout",
     "output_type": "stream",
     "text": [
      "  |======================================================================| 100%\n",
      "  |======================================================================| 100%\n",
      "  |======================================================================| 100%\n",
      "  |======================================================================| 100%\n",
      "  |======================================================================| 100%\n",
      "  |======================================================================| 100%\n",
      "  |======================================================================| 100%\n",
      "  |======================================================================| 100%\n",
      "  |======================================================================| 100%\n",
      "  |======================================================================| 100%\n",
      "  |======================================================================| 100%\n",
      "  |======================================================================| 100%\n",
      "  |======================================================================| 100%\n",
      "  |======================================================================| 100%\n",
      "  |======================================================================| 100%\n",
      "  |======================================================================| 100%\n",
      "  |======================================================================| 100%\n",
      "  |======================================================================| 100%\n",
      "  |======================================================================| 100%\n",
      "  |======================================================================| 100%\n",
      "  |======================================================================| 100%\n",
      "  |======================================================================| 100%\n",
      "  |======================================================================| 100%\n",
      "  |======================================================================| 100%\n",
      "  |======================================================================| 100%\n"
     ]
    }
   ],
   "source": [
    "# Reconstruction error matrix for errors \n",
    "reconstruct.error <- matrix(NA, nrow=27, ncol=2)\n",
    "\n",
    "# looping through each a sequence of 20,40,60,...,500\n",
    "for (k in seq(20, 500, 20)){\n",
    "      \n",
    "  NN.model <- h2o.deeplearning(    \n",
    "  x = 2:ncol(train.frame), # select all pixels \n",
    "  training_frame = train.frame, # specify the frame (imported file)    \n",
    "  hidden = c(k), # number of layers and their units\n",
    "  epochs = 50, # maximum number of epoches  \n",
    "  activation = 'Tanh', # activation function \n",
    "  autoencoder = TRUE, # is it an autoencoder? No!\n",
    "  l2 = 0.1 # l2 regularization parameter\n",
    ")\n",
    "  #finding the reconstructing error then finding the mean of it and storing \n",
    "  error <- mean(as.matrix(h2o.anomaly(NN.model, train.frame, per_feature = FALSE)))  # finding the average \n",
    "  reconstruct.error[k/20, 1] <- k\n",
    "  reconstruct.error[k/20, 2] <- error     # Storing it in the matrix\n",
    "}\n",
    "#removing the null values\n",
    "reconstruct.error <- reconstruct.error[complete.cases(reconstruct.error),]"
   ]
  },
  {
   "cell_type": "code",
   "execution_count": 18,
   "metadata": {},
   "outputs": [
    {
     "data": {
      "image/png": "[encoded data removed]",
      "text/plain": [
       "Plot with title \"Reconstruction Error for Train\""
      ]
     },
     "metadata": {},
     "output_type": "display_data"
    }
   ],
   "source": [
    "plot(reconstruct.error[,1], reconstruct.error[,2],type = 'l', xlab = 'Hidden Neurons', ylab = 'Error', main = 'Reconstruction Error for Train')"
   ]
  },
  {
   "cell_type": "markdown",
   "metadata": {},
   "source": [
    "We can see a constant decrease in the reconstruction error starting from 20 and keeps falling untill 220 and after which it keeps increasing."
   ]
  },
  {
   "cell_type": "markdown",
   "metadata": {},
   "source": [
    "> ##### 4. Three Layer Neural Network\n",
    "Now using a 3-layered NN with H2o we have to build a network with 100 hidden neurons. It is told that we have to set autoencoder to False since it is Normal NN classifier.  "
   ]
  },
  {
   "cell_type": "code",
   "execution_count": 19,
   "metadata": {},
   "outputs": [
    {
     "name": "stdout",
     "output_type": "stream",
     "text": [
      "  |======================================================================| 100%\n"
     ]
    }
   ],
   "source": [
    "# 3 Layered NN\n",
    "NN.model_classifier <- h2o.deeplearning(    \n",
    "    x = 2:ncol(labeled.frame), # select all pixels + extra features\n",
    "    y = 1,\n",
    "    training_frame = labeled.frame, # specify the frame (imported file)    \n",
    "    hidden = c(100), # number of layers and their units\n",
    "    epochs = 50, # maximum number of epoches  \n",
    "    activation = 'Tanh', # activation function \n",
    "    autoencoder = FALSE, # is it an autoencoder? No!\n",
    "    l2 = 0.1    # L2 regularization parameter\n",
    "    )"
   ]
  },
  {
   "cell_type": "code",
   "execution_count": 20,
   "metadata": {},
   "outputs": [
    {
     "name": "stdout",
     "output_type": "stream",
     "text": [
      "  |======================================================================| 100%\n",
      "The recorded test error is :  0.46"
     ]
    }
   ],
   "source": [
    "# Error rate to calculate error from predicted and true labels\n",
    "error.rate <- function(Y1, T1){\n",
    "  if (nrow(Y1)!=nrow(T1)){\n",
    "    stop('error.rate: size of true lables and predicted labels mismatch')\n",
    "  }\n",
    "  return (sum(T1!=Y1)/nrow(T1))\n",
    "}\n",
    "test.predict <- h2o.predict(NN.model_classifier, test.frame)$predict\n",
    "cat(\"The recorded test error is : \", error.rate(test.frame$label, test.predict))"
   ]
  },
  {
   "cell_type": "markdown",
   "metadata": {},
   "source": [
    ">##### 5. Augmented Self-taught Network."
   ]
  },
  {
   "cell_type": "code",
   "execution_count": 21,
   "metadata": {},
   "outputs": [
    {
     "name": "stdout",
     "output_type": "stream",
     "text": [
      "  |======================================================================| 100%\n",
      "  |======================================================================| 100%\n",
      "  |======================================================================| 100%\n",
      "  |======================================================================| 100%\n",
      "  |======================================================================| 100%\n",
      "  |======================================================================| 100%\n",
      "  |======================================================================| 100%\n",
      "  |======================================================================| 100%\n",
      "  |======================================================================| 100%\n",
      "  |======================================================================| 100%\n",
      "  |======================================================================| 100%\n",
      "  |======================================================================| 100%\n",
      "  |======================================================================| 100%\n",
      "  |======================================================================| 100%\n",
      "  |======================================================================| 100%\n",
      "  |======================================================================| 100%\n",
      "  |======================================================================| 100%\n",
      "  |======================================================================| 100%\n",
      "  |======================================================================| 100%\n",
      "  |======================================================================| 100%\n",
      "  |======================================================================| 100%\n",
      "  |======================================================================| 100%\n",
      "  |======================================================================| 100%\n",
      "  |======================================================================| 100%\n",
      "  |======================================================================| 100%\n",
      "  |======================================================================| 100%\n",
      "  |======================================================================| 100%\n",
      "  |======================================================================| 100%\n",
      "  |======================================================================| 100%\n",
      "  |======================================================================| 100%\n",
      "  |======================================================================| 100%\n",
      "  |======================================================================| 100%\n",
      "  |======================================================================| 100%\n",
      "  |======================================================================| 100%\n",
      "  |======================================================================| 100%\n",
      "  |======================================================================| 100%\n",
      "  |======================================================================| 100%\n",
      "  |======================================================================| 100%\n",
      "  |======================================================================| 100%\n",
      "  |======================================================================| 100%\n",
      "  |======================================================================| 100%\n",
      "  |======================================================================| 100%\n",
      "  |======================================================================| 100%\n",
      "  |======================================================================| 100%\n",
      "  |======================================================================| 100%\n",
      "  |======================================================================| 100%\n",
      "  |======================================================================| 100%\n",
      "  |======================================================================| 100%\n",
      "  |======================================================================| 100%\n",
      "  |======================================================================| 100%\n",
      "  |======================================================================| 100%\n",
      "  |======================================================================| 100%\n",
      "  |======================================================================| 100%\n",
      "  |======================================================================| 100%\n",
      "  |======================================================================| 100%\n",
      "  |======================================================================| 100%\n",
      "  |======================================================================| 100%\n",
      "  |======================================================================| 100%\n",
      "  |======================================================================| 100%\n",
      "  |======================================================================| 100%\n",
      "  |======================================================================| 100%\n",
      "  |======================================================================| 100%\n",
      "  |======================================================================| 100%\n",
      "  |======================================================================| 100%\n",
      "  |======================================================================| 100%\n",
      "  |======================================================================| 100%\n",
      "  |======================================================================| 100%\n",
      "  |======================================================================| 100%\n",
      "  |======================================================================| 100%\n",
      "  |======================================================================| 100%\n",
      "  |======================================================================| 100%\n",
      "  |======================================================================| 100%\n",
      "  |======================================================================| 100%\n",
      "  |======================================================================| 100%\n",
      "  |======================================================================| 100%\n",
      "  |======================================================================| 100%\n",
      "  |======================================================================| 100%\n",
      "  |======================================================================| 100%\n",
      "  |======================================================================| 100%\n",
      "  |======================================================================| 100%\n",
      "  |======================================================================| 100%\n",
      "  |======================================================================| 100%\n",
      "  |======================================================================| 100%\n",
      "  |======================================================================| 100%\n",
      "  |======================================================================| 100%\n",
      "  |======================================================================| 100%\n",
      "  |======================================================================| 100%\n",
      "  |======================================================================| 100%\n",
      "  |======================================================================| 100%\n",
      "  |======================================================================| 100%\n",
      "  |======================================================================| 100%\n",
      "  |======================================================================| 100%\n",
      "  |======================================================================| 100%\n",
      "  |======================================================================| 100%\n",
      "  |======================================================================| 100%\n",
      "  |======================================================================| 100%\n",
      "  |======================================================================| 100%\n",
      "  |======================================================================| 100%\n",
      "  |======================================================================| 100%\n",
      "  |======================================================================| 100%\n",
      "  |======================================================================| 100%\n",
      "  |======================================================================| 100%\n"
     ]
    },
    {
     "name": "stdout",
     "output_type": "stream",
     "text": [
      "  |======================================================================| 100%\n",
      "  |======================================================================| 100%\n",
      "  |======================================================================| 100%\n",
      "  |======================================================================| 100%\n",
      "  |======================================================================| 100%\n",
      "  |======================================================================| 100%\n",
      "  |======================================================================| 100%\n",
      "  |======================================================================| 100%\n",
      "  |======================================================================| 100%\n",
      "  |======================================================================| 100%\n",
      "  |======================================================================| 100%\n",
      "  |======================================================================| 100%\n",
      "  |======================================================================| 100%\n",
      "  |======================================================================| 100%\n",
      "  |======================================================================| 100%\n",
      "  |======================================================================| 100%\n",
      "  |======================================================================| 100%\n",
      "  |======================================================================| 100%\n",
      "  |======================================================================| 100%\n",
      "  |======================================================================| 100%\n",
      "  |======================================================================| 100%\n",
      "  |======================================================================| 100%\n",
      "  |======================================================================| 100%\n"
     ]
    },
    {
     "data": {
      "text/html": [
       "<table>\n",
       "<tbody>\n",
       "\t<tr><td> 20  </td><td>0.594</td></tr>\n",
       "\t<tr><td> 40  </td><td>0.640</td></tr>\n",
       "\t<tr><td> 60  </td><td>0.574</td></tr>\n",
       "\t<tr><td> 80  </td><td>0.479</td></tr>\n",
       "\t<tr><td>100  </td><td>0.527</td></tr>\n",
       "\t<tr><td>120  </td><td>0.463</td></tr>\n",
       "</tbody>\n",
       "</table>\n"
      ],
      "text/latex": [
       "\\begin{tabular}{ll}\n",
       "\t  20   & 0.594\\\\\n",
       "\t  40   & 0.640\\\\\n",
       "\t  60   & 0.574\\\\\n",
       "\t  80   & 0.479\\\\\n",
       "\t 100   & 0.527\\\\\n",
       "\t 120   & 0.463\\\\\n",
       "\\end{tabular}\n"
      ],
      "text/markdown": [
       "\n",
       "|  20   | 0.594 |\n",
       "|  40   | 0.640 |\n",
       "|  60   | 0.574 |\n",
       "|  80   | 0.479 |\n",
       "| 100   | 0.527 |\n",
       "| 120   | 0.463 |\n",
       "\n"
      ],
      "text/plain": [
       "     [,1] [,2] \n",
       "[1,]  20  0.594\n",
       "[2,]  40  0.640\n",
       "[3,]  60  0.574\n",
       "[4,]  80  0.479\n",
       "[5,] 100  0.527\n",
       "[6,] 120  0.463"
      ]
     },
     "metadata": {},
     "output_type": "display_data"
    }
   ],
   "source": [
    "# Creating a matrix to store the misclassification error \n",
    "missclass <- matrix(NA, nrow=27, ncol=2)\n",
    "# Increasing hidden layer units from 20 to 500 by step of 20\n",
    "for (k in seq(20, 500, 20)){      \n",
    "    NN.model <- h2o.deeplearning(    \n",
    "      x = 2:ncol(train.frame), # select all pixels + extra features\n",
    "      training_frame = train.frame, # specify the frame (imported file)    \n",
    "      hidden = c(k), # number of layers and their units\n",
    "      epochs = 50, # maximum number of epoches  \n",
    "      activation = 'Tanh', # activation function \n",
    "      autoencoder = TRUE, # is it an autoencoder? No!\n",
    "      l2 = 0.1\n",
    "    )\n",
    "    # Extracting the features\n",
    "    features <- as.h2o(as.matrix(h2o.deepfeatures(NN.model, train.frame, layer=1)))   \n",
    "    features <- project[1:nrow(labeled.frame),]      \n",
    "    labeled.frame_new <- h2o.cbind(labeled.frame, features)\n",
    "    NN.model_classifier <- h2o.deeplearning(    \n",
    "        x = 2:ncol(labeled.frame_new), # select all pixels + extra features\n",
    "        y = 1,\n",
    "        training_frame = labeled.frame_new, # specify the frame (imported file)    \n",
    "        hidden = c(k), # number of layers and their units\n",
    "        epochs = 50, # maximum number of epoches  \n",
    "        activation = 'Tanh', # activation function \n",
    "        autoencoder = FALSE, # is it an autoencoder? No!\n",
    "        l2 = 0.1\n",
    "    )\n",
    "    error <- error.rate(test.frame$label, h2o.predict(NN.model_classifier, test.frame)$predict)\n",
    "    \n",
    "    missclass[k/20,1] <- k\n",
    "    missclass[k/20,2] <- error    \n",
    "}\n",
    "missclass <- missclass[complete.cases(missclass),]"
   ]
  },
  {
   "cell_type": "markdown",
   "metadata": {},
   "source": [
    ">##### 6. Misclassification Error plot"
   ]
  },
  {
   "cell_type": "code",
   "execution_count": 22,
   "metadata": {},
   "outputs": [
    {
     "data": {
      "image/png": "[encoded data removed]",
      "text/plain": [
       "Plot with title \"Misclassification Error plot\""
      ]
     },
     "metadata": {},
     "output_type": "display_data"
    }
   ],
   "source": [
    "plot(missclass[,1],missclass[,2], type = 'l',  xlab = 'Count of extra features', ylab = 'Classification Error', main = 'Misclassification Error plot')"
   ]
  },
  {
   "cell_type": "markdown",
   "metadata": {},
   "source": [
    "> ##### 7. Optimum number of units in the hidden layer of the neural network \n"
   ]
  },
  {
   "cell_type": "markdown",
   "metadata": {},
   "source": [
    "If we look closely, we can see that 220 is the optimum number of neurons in both the plots, it is the point where the reconstruction and misclassification error is the lowest and there after the error keeps increasing, hence we can rightly conclude that 220 neurons would be optimum number."
   ]
  },
  {
   "cell_type": "markdown",
   "metadata": {},
   "source": [
    "> ##### 8. Comparing the reconstruction error plot and the misclassification error plot."
   ]
  },
  {
   "cell_type": "code",
   "execution_count": 23,
   "metadata": {},
   "outputs": [
    {
     "data": {
      "image/png": "[encoded data removed]",
      "text/plain": [
       "Plot with title \"Reconstruction Error plot\""
      ]
     },
     "metadata": {},
     "output_type": "display_data"
    },
    {
     "data": {
      "image/png": "[encoded data removed]",
      "text/plain": [
       "Plot with title \"Misclassification Error plot\""
      ]
     },
     "metadata": {},
     "output_type": "display_data"
    }
   ],
   "source": [
    "plot(reconstruct.error[,1], reconstruct.error[,2],type = 'l', xlab = 'Hidden Neurons', ylab = 'Reconstruction Error', main = 'Reconstruction Error plot')\n",
    "plot(missclass[,1],missclass[,2], type = 'l',  xlab = 'Count of extra features', ylab = 'Misclassification Error', main = 'Misclassification Error plot')"
   ]
  },
  {
   "cell_type": "code",
   "execution_count": 25,
   "metadata": {},
   "outputs": [
    {
     "data": {
      "text/html": [
       "<ol class=list-inline>\n",
       "\t<li>180</li>\n",
       "\t<li>0.00841086122844229</li>\n",
       "</ol>\n"
      ],
      "text/latex": [
       "\\begin{enumerate*}\n",
       "\\item 180\n",
       "\\item 0.00841086122844229\n",
       "\\end{enumerate*}\n"
      ],
      "text/markdown": [
       "1. 180\n",
       "2. 0.00841086122844229\n",
       "\n",
       "\n"
      ],
      "text/plain": [
       "[1] 1.800000e+02 8.410861e-03"
      ]
     },
     "metadata": {},
     "output_type": "display_data"
    }
   ],
   "source": []
  },
  {
   "cell_type": "markdown",
   "metadata": {},
   "source": [
    "Looking at the minimum error at 180 neurons, we can call this for the optimum error, but to find some relation with the misclassification error plot, we can take 220 as the optimum."
   ]
  },
  {
   "cell_type": "code",
   "execution_count": 27,
   "metadata": {},
   "outputs": [
    {
     "data": {
      "text/html": [
       "<ol class=list-inline>\n",
       "\t<li>480</li>\n",
       "\t<li>0.314</li>\n",
       "</ol>\n"
      ],
      "text/latex": [
       "\\begin{enumerate*}\n",
       "\\item 480\n",
       "\\item 0.314\n",
       "\\end{enumerate*}\n"
      ],
      "text/markdown": [
       "1. 480\n",
       "2. 0.314\n",
       "\n",
       "\n"
      ],
      "text/plain": [
       "[1] 480.000   0.314"
      ]
     },
     "metadata": {},
     "output_type": "display_data"
    }
   ],
   "source": [
    "# The optimum number(s) of units in the middle layer of the autoencoder in terms of the  misclassification errors.\n",
    "missclass[which(missclass[,2]==min(missclass[,2])),]"
   ]
  },
  {
   "cell_type": "markdown",
   "metadata": {},
   "source": [
    "The above quoted number of neurons cannot be a optimum number of neurons, since as we can see in the plot, that there is another minimum at 220 which is second lowest but uses, less than half of the neurons from the prior case."
   ]
  },
  {
   "cell_type": "markdown",
   "metadata": {},
   "source": [
    "In our reconstruction error plot, we can see that the error highly drops for 20 hidden neurons and there after keeps falling,to a certain point i.e 180 , further it attains some uniformity and then increases from 220, giving us a optimum number. Whereas in our second plot that is misclassification error, we see high variance at the extremes giving high unstability and cannot be determined, they might be due to high deviation or variance in the data, this makes the misclassification plot unpredictable, but if we look closely after the 220 neurons, we never see any decrease in the error.\n",
    "    The relationship apart from 220 neurons, we cannot see any consistent relationship between the two error plots.The ways to better relationship between these plots can be good wrangling, standardization, and better features. Another approach to achieve this could be by changing the h2o parameters and testing parameter like epochs and activation function, etc."
   ]
  },
  {
   "cell_type": "code",
   "execution_count": null,
   "metadata": {},
   "outputs": [],
   "source": []
  }
 ],
 "metadata": {
  "kernelspec": {
   "display_name": "R",
   "language": "R",
   "name": "ir"
  },
  "language_info": {
   "codemirror_mode": "r",
   "file_extension": ".r",
   "mimetype": "text/x-r-source",
   "name": "R",
   "pygments_lexer": "r",
   "version": "3.6.1"
  }
 },
 "nbformat": 4,
 "nbformat_minor": 2
}
